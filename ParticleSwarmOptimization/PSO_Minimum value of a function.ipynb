{
 "cells": [
  {
   "cell_type": "markdown",
   "metadata": {},
   "source": [
    "Find the minimum value of function:"
   ]
  },
  {
   "cell_type": "markdown",
   "metadata": {},
   "source": [
    "\\begin{align}\n",
    "f{(x_1,x_2)} = -\\Bigg|\\sin(x_1)\\cos(x_2)\\exp \\bigg( \\bigg| 1-\\frac{\\sqrt{x_1^2 + x_2^2}}{\\pi} \\bigg|\\bigg) \\Bigg|\n",
    "\\end{align}"
   ]
  },
  {
   "cell_type": "markdown",
   "metadata": {},
   "source": [
    "while $ -10 <= x_1 <= 10 $ and $ -10 <= x_2 <= 10 $"
   ]
  },
  {
   "cell_type": "code",
   "execution_count": 1,
   "metadata": {},
   "outputs": [],
   "source": [
    "import numpy as np\n",
    "import random"
   ]
  },
  {
   "cell_type": "code",
   "execution_count": 2,
   "metadata": {},
   "outputs": [],
   "source": [
    "def f(x,y):\n",
    "    return -(abs(np.sin(x)*np.cos(y)*np.exp(abs(1 - (np.sqrt((x ** 2) + (y ** 2))) / np.pi))))"
   ]
  },
  {
   "cell_type": "code",
   "execution_count": 3,
   "metadata": {},
   "outputs": [],
   "source": [
    "def fitness(x1,x2):\n",
    "    return 1/f(x1,x2)"
   ]
  },
  {
   "cell_type": "code",
   "execution_count": 4,
   "metadata": {},
   "outputs": [],
   "source": [
    "def init():\n",
    "    return ([random.uniform(-10,10),random.uniform(-10,10)])"
   ]
  },
  {
   "cell_type": "code",
   "execution_count": 5,
   "metadata": {},
   "outputs": [],
   "source": [
    "def velocity (v_i,phi_cognition,phi_social,p_i, x_i, p_g,VMax):\n",
    "    \"\"\"\n",
    "    :param v_i : vektor velocity untuk partikel ke-i \n",
    "    :param p_i : vektor nilai fitness terbaik yang dihasilkan sejauh ini oleh partikel ke-i\n",
    "    :param x_i : posisi partikel ke-i\n",
    "    :param p_g : vektor nilai fitness terbaik yang dihasilkan sejauh ini \n",
    "                 oleh partikel terbaik dalam topologi ketetanggan\n",
    "                 \n",
    "    :param phi_cognition = phi 1 : laju belajar untuk komponen cognition (kecerdasan individu)\n",
    "    :param phi_social = phi 2: laju belajar untuk koponen social (hubungan social antar individu)     \n",
    "    \n",
    "    return :velocity terbaru dari partikel ke-i\n",
    "    \n",
    "    \"\"\"\n",
    "    r = random.uniform(0,1)\n",
    "    v = [[]]*len(v_i)\n",
    "    for d in range (len(v)):\n",
    "        tmp = v_i[d] + phi_cognition * r * np.subtract(p_i[d],x_i[d]) + phi_social * r * np.subtract(p_g[d],x_i[d])\n",
    "        v[d] = tmp if (-VMax <= tmp <= VMax) else (tmp/abs(tmp))*VMax\n",
    "    return v     "
   ]
  },
  {
   "cell_type": "code",
   "execution_count": 6,
   "metadata": {},
   "outputs": [
    {
     "name": "stdout",
     "output_type": "stream",
     "text": [
      "coordinate   :  [8.04278443241122, 9.607907695810798]\n",
      "minimum value:  -19.174792249273906\n"
     ]
    }
   ],
   "source": [
    "X = []\n",
    "P = []\n",
    "V = []\n",
    "x_fitness = []\n",
    "p_fitness = []\n",
    "VMax = 2\n",
    "phi_cognition = 0.5\n",
    "phi_social = 0.3\n",
    "\n",
    "n_partikel = 20\n",
    "for i in range(n_partikel):\n",
    "    X.append(init())\n",
    "    P.append(X[-1][:])\n",
    "    V.append([random.uniform(-VMax,VMax),random.uniform(-VMax,VMax)])\n",
    "    x_fitness.append([fitness(X[-1][0],X[-1][1]),i])\n",
    "    p_fitness.append(x_fitness[-1][:])\n",
    "\n",
    "for iterasi in range (100): #change soon\n",
    "    for partikel in range (n_partikel):\n",
    "        x_fitness[partikel][0] = fitness(X[partikel][0],X[partikel][1])\n",
    "        if (x_fitness[partikel] > p_fitness[partikel]):\n",
    "            P[partikel] = X[partikel][:]\n",
    "            p_fitness[partikel] = x_fitness[partikel][:]\n",
    "    gbest = P[max(p_fitness)[1]]\n",
    "    for partikel in range (n_partikel):\n",
    "        V[partikel] = velocity(V[partikel],phi_cognition,phi_social,P[partikel],X[partikel],gbest,VMax)\n",
    "        X[partikel] = np.add(X[partikel],V[partikel])\n",
    "        for i in range(len(X[partikel])):\n",
    "            while X[partikel][i] > 10 or X[partikel][i] < -10:\n",
    "                X[partikel][i] = random.uniform(-10,10)\n",
    "#     for i in range (len(X)):\n",
    "#         print (X[i] , 1/x_fitness[i][0])\n",
    "#     print (\"\")\n",
    "print('coordinate   : ',gbest)\n",
    "print('minimum value: ',f(gbest[0],gbest[1]))\n",
    "        \n",
    "    "
   ]
  },
  {
   "cell_type": "code",
   "execution_count": null,
   "metadata": {},
   "outputs": [],
   "source": []
  },
  {
   "cell_type": "code",
   "execution_count": 7,
   "metadata": {},
   "outputs": [
    {
     "data": {
      "text/plain": [
       "[array([ 9.89369773, -2.18492286]),\n",
       " array([ 2.26987511, -0.13558541]),\n",
       " array([8.03018089, 8.29001797]),\n",
       " array([ 2.1808175 , -8.53166143]),\n",
       " array([ 9.04824627, -0.38924338]),\n",
       " array([-9.45663412, -8.35376836]),\n",
       " array([-0.51705505,  9.77630812]),\n",
       " array([-6.7255783 ,  4.35901266]),\n",
       " array([-1.1401343 , -4.59914022]),\n",
       " array([-0.98677455, -1.10527435]),\n",
       " array([ 6.56256253, -3.12676679]),\n",
       " array([9.65416537, 6.1638405 ]),\n",
       " array([9.98749849, 5.18089351]),\n",
       " array([-2.69510725, -4.85718451]),\n",
       " array([7.66997066, 7.61935313]),\n",
       " array([-5.55444749,  9.584362  ]),\n",
       " array([ 3.34494014, -1.55321073]),\n",
       " array([-3.2732491 , -1.69463223]),\n",
       " array([ 8.27657981, -1.08262907]),\n",
       " array([-1.0789739 ,  6.94927803])]"
      ]
     },
     "execution_count": 7,
     "metadata": {},
     "output_type": "execute_result"
    }
   ],
   "source": [
    "X"
   ]
  },
  {
   "cell_type": "code",
   "execution_count": 8,
   "metadata": {},
   "outputs": [
    {
     "data": {
      "text/plain": [
       "[array([ 7.72216912, -6.85450115]),\n",
       " array([-3.95379344, -9.04344042]),\n",
       " array([7.94699222, 9.53825104]),\n",
       " array([8.26602092, 9.70333933]),\n",
       " [8.04278443241122, 9.607907695810798],\n",
       " array([8.56975065, 9.31490154]),\n",
       " array([-8.55075846,  9.8013862 ]),\n",
       " array([-8.47809751,  9.97382227]),\n",
       " array([ 7.91715053, -9.61106684]),\n",
       " [-5.8138756371767, -8.566857523096074],\n",
       " array([ 7.9991839 , -9.69333867]),\n",
       " array([7.87812331, 9.7111569 ]),\n",
       " array([8.26911352, 9.59411624]),\n",
       " array([-5.66227623, -9.16467966]),\n",
       " array([8.14075502, 9.50678517]),\n",
       " array([7.54190066, 9.47717801]),\n",
       " array([7.71003823, 9.62044404]),\n",
       " array([-7.4872245 , -5.90051148]),\n",
       " array([ 8.58483832, -9.43844587]),\n",
       " array([8.19489684, 8.96230219])]"
      ]
     },
     "execution_count": 8,
     "metadata": {},
     "output_type": "execute_result"
    }
   ],
   "source": [
    "P"
   ]
  },
  {
   "cell_type": "code",
   "execution_count": 9,
   "metadata": {},
   "outputs": [
    {
     "data": {
      "text/plain": [
       "[[1.9414077885358318, -1.1594860433287062],\n",
       " [-2.0, -1.4575958745974864],\n",
       " [0.29970802369408633, 2.0],\n",
       " [2.0, 2.0],\n",
       " [0.5784723467591962, 2.0],\n",
       " [1.4047575150849738, 2.0],\n",
       " [-1.2435075503696846, 0.015959316425093305],\n",
       " [-0.7678807100587248, 2.0],\n",
       " [2.0, 0.1422472250159359],\n",
       " [1.3832984321544788, -0.9923186934820647],\n",
       " [-0.4199597179801461, -0.9746677292331387],\n",
       " [2.0, 2.0],\n",
       " [1.9585010628519073, 2.0],\n",
       " [-0.19965451303715032, -0.9050797721142452],\n",
       " [0.12092068066512725, 2.0],\n",
       " [2.0, 2.0],\n",
       " [2.0, 2.0],\n",
       " [0.11428261786717275, 0.1142826757478228],\n",
       " [2.0, -0.7302684323912447],\n",
       " [2.0, 2.0]]"
      ]
     },
     "execution_count": 9,
     "metadata": {},
     "output_type": "execute_result"
    }
   ],
   "source": [
    "V"
   ]
  },
  {
   "cell_type": "code",
   "execution_count": 10,
   "metadata": {},
   "outputs": [
    {
     "data": {
      "text/plain": [
       "[[-0.4102329711120885, 0],\n",
       " [-2.9446354615180645, 1],\n",
       " [-0.1147889226592306, 2],\n",
       " [-1.7223929079901887, 3],\n",
       " [-0.2770159590614238, 4],\n",
       " [-0.28240943525898843, 5],\n",
       " [-0.19226578066916256, 6],\n",
       " [-1.5593475395171352, 7],\n",
       " [-10518.489192737577, 8],\n",
       " [-1.1301084093538571, 9],\n",
       " [-0.7513962427433246, 10],\n",
       " [-0.3320966881332883, 11],\n",
       " [-0.17772214499258623, 12],\n",
       " [-1.4797316141342842, 13],\n",
       " [-0.18093127594432046, 14],\n",
       " [-0.35380834423093543, 15],\n",
       " [-0.15822388237824395, 16],\n",
       " [-13.941037458612417, 17],\n",
       " [-59.27721406262579, 18],\n",
       " [-28.947931104190967, 19]]"
      ]
     },
     "execution_count": 10,
     "metadata": {},
     "output_type": "execute_result"
    }
   ],
   "source": [
    "x_fitness"
   ]
  },
  {
   "cell_type": "code",
   "execution_count": 11,
   "metadata": {},
   "outputs": [
    {
     "data": {
      "text/plain": [
       "[[-0.12183827841470285, 0],\n",
       " [-0.17435023798108393, 1],\n",
       " [-0.05281064734378353, 2],\n",
       " [-0.05335811108487597, 3],\n",
       " [-0.05215180362842612, 4],\n",
       " [-0.06448500345125895, 5],\n",
       " [-0.06067493440254173, 6],\n",
       " [-0.060876981081958756, 7],\n",
       " [-0.052645986770397744, 8],\n",
       " [-0.34045408585234743, 9],\n",
       " [-0.05216475817373626, 10],\n",
       " [-0.052942547606309315, 11],\n",
       " [-0.05347635213481926, 12],\n",
       " [-0.15673549994650765, 13],\n",
       " [-0.05292327595574676, 14],\n",
       " [-0.0605405082536535, 15],\n",
       " [-0.0553158694061172, 16],\n",
       " [-0.15099779055522816, 17],\n",
       " [-0.06289971241716995, 18],\n",
       " [-0.06752027475984734, 19]]"
      ]
     },
     "execution_count": 11,
     "metadata": {},
     "output_type": "execute_result"
    }
   ],
   "source": [
    "p_fitness"
   ]
  }
 ],
 "metadata": {
  "kernelspec": {
   "display_name": "Python 3",
   "language": "python",
   "name": "python3"
  },
  "language_info": {
   "codemirror_mode": {
    "name": "ipython",
    "version": 3
   },
   "file_extension": ".py",
   "mimetype": "text/x-python",
   "name": "python",
   "nbconvert_exporter": "python",
   "pygments_lexer": "ipython3",
   "version": "3.7.0"
  }
 },
 "nbformat": 4,
 "nbformat_minor": 2
}
